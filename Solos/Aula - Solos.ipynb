{
 "cells": [
  {
   "cell_type": "code",
   "execution_count": 53,
   "metadata": {},
   "outputs": [],
   "source": [
    "import numpy as np\n",
    "import pandas as pd\n",
    "import matplotlib.pyplot as plt"
   ]
  },
  {
   "cell_type": "code",
   "execution_count": 54,
   "metadata": {},
   "outputs": [],
   "source": [
    "def mesh_mm(ensaio):\n",
    "    if ensaio == 3.5: return 5.66\n",
    "    if ensaio == 4: return 4.76\n",
    "    if ensaio == 5: return 4\n",
    "    if ensaio == 6: return 3.36\n",
    "    if ensaio == 7: return 2.83\n",
    "    if ensaio == 8: return 2.38\n",
    "    if ensaio == 10: return 2\n",
    "    if ensaio == 12: return 1.68\n",
    "    if ensaio == 14: return 1.41\n",
    "    if ensaio == 16: return 1.19\n",
    "    if ensaio == 18: return 1\n",
    "    if ensaio == 20: return 0.84\n",
    "    if ensaio == 25: return 0.71\n",
    "    if ensaio == 30: return 0.59\n",
    "    if ensaio == 35: return 0.5\n",
    "    if ensaio == 40: return 0.42\n",
    "    if ensaio == 45: return 0.35\n",
    "    if ensaio == 50: return 0.297\n",
    "    if ensaio == 60: return 0.25\n",
    "    if ensaio == 70: return 0.21\n",
    "    if ensaio == 80: return 0.177\n",
    "    if ensaio == 100: return 0.149\n",
    "    if ensaio == 120: return 0.125\n",
    "    if ensaio == 140: return 0.105\n",
    "    if ensaio == 170: return 0.088\n",
    "    if ensaio == 200: return 0.074\n",
    "    if ensaio == 'cuba':return 'cuba'"
   ]
  },
  {
   "cell_type": "code",
   "execution_count": 55,
   "metadata": {},
   "outputs": [],
   "source": [
    "peneira = [4,6,10,20,40,60,100,200,'cuba']\n",
    "massa = [0,30,48.7,127.3,96.8,76.6,55.2,43.4,22]\n",
    "\n",
    "dado = pd.DataFrame({'Peneira':peneira,'Massa':massa})"
   ]
  },
  {
   "cell_type": "code",
   "execution_count": 56,
   "metadata": {},
   "outputs": [
    {
     "data": {
      "text/html": [
       "<div>\n",
       "<style scoped>\n",
       "    .dataframe tbody tr th:only-of-type {\n",
       "        vertical-align: middle;\n",
       "    }\n",
       "\n",
       "    .dataframe tbody tr th {\n",
       "        vertical-align: top;\n",
       "    }\n",
       "\n",
       "    .dataframe thead th {\n",
       "        text-align: right;\n",
       "    }\n",
       "</style>\n",
       "<table border=\"1\" class=\"dataframe\">\n",
       "  <thead>\n",
       "    <tr style=\"text-align: right;\">\n",
       "      <th></th>\n",
       "      <th>Peneira</th>\n",
       "      <th>Massa</th>\n",
       "    </tr>\n",
       "  </thead>\n",
       "  <tbody>\n",
       "    <tr>\n",
       "      <th>0</th>\n",
       "      <td>4</td>\n",
       "      <td>0.0</td>\n",
       "    </tr>\n",
       "    <tr>\n",
       "      <th>1</th>\n",
       "      <td>6</td>\n",
       "      <td>30.0</td>\n",
       "    </tr>\n",
       "    <tr>\n",
       "      <th>2</th>\n",
       "      <td>10</td>\n",
       "      <td>48.7</td>\n",
       "    </tr>\n",
       "    <tr>\n",
       "      <th>3</th>\n",
       "      <td>20</td>\n",
       "      <td>127.3</td>\n",
       "    </tr>\n",
       "    <tr>\n",
       "      <th>4</th>\n",
       "      <td>40</td>\n",
       "      <td>96.8</td>\n",
       "    </tr>\n",
       "    <tr>\n",
       "      <th>5</th>\n",
       "      <td>60</td>\n",
       "      <td>76.6</td>\n",
       "    </tr>\n",
       "    <tr>\n",
       "      <th>6</th>\n",
       "      <td>100</td>\n",
       "      <td>55.2</td>\n",
       "    </tr>\n",
       "    <tr>\n",
       "      <th>7</th>\n",
       "      <td>200</td>\n",
       "      <td>43.4</td>\n",
       "    </tr>\n",
       "    <tr>\n",
       "      <th>8</th>\n",
       "      <td>cuba</td>\n",
       "      <td>22.0</td>\n",
       "    </tr>\n",
       "  </tbody>\n",
       "</table>\n",
       "</div>"
      ],
      "text/plain": [
       "  Peneira  Massa\n",
       "0       4    0.0\n",
       "1       6   30.0\n",
       "2      10   48.7\n",
       "3      20  127.3\n",
       "4      40   96.8\n",
       "5      60   76.6\n",
       "6     100   55.2\n",
       "7     200   43.4\n",
       "8    cuba   22.0"
      ]
     },
     "execution_count": 56,
     "metadata": {},
     "output_type": "execute_result"
    }
   ],
   "source": [
    "dado"
   ]
  },
  {
   "cell_type": "code",
   "execution_count": 57,
   "metadata": {},
   "outputs": [
    {
     "data": {
      "text/html": [
       "<div>\n",
       "<style scoped>\n",
       "    .dataframe tbody tr th:only-of-type {\n",
       "        vertical-align: middle;\n",
       "    }\n",
       "\n",
       "    .dataframe tbody tr th {\n",
       "        vertical-align: top;\n",
       "    }\n",
       "\n",
       "    .dataframe thead th {\n",
       "        text-align: right;\n",
       "    }\n",
       "</style>\n",
       "<table border=\"1\" class=\"dataframe\">\n",
       "  <thead>\n",
       "    <tr style=\"text-align: right;\">\n",
       "      <th></th>\n",
       "      <th>Peneira</th>\n",
       "      <th>Massa</th>\n",
       "      <th>mm</th>\n",
       "    </tr>\n",
       "  </thead>\n",
       "  <tbody>\n",
       "    <tr>\n",
       "      <th>0</th>\n",
       "      <td>4</td>\n",
       "      <td>0.0</td>\n",
       "      <td>4.76</td>\n",
       "    </tr>\n",
       "    <tr>\n",
       "      <th>1</th>\n",
       "      <td>6</td>\n",
       "      <td>30.0</td>\n",
       "      <td>3.36</td>\n",
       "    </tr>\n",
       "    <tr>\n",
       "      <th>2</th>\n",
       "      <td>10</td>\n",
       "      <td>48.7</td>\n",
       "      <td>2</td>\n",
       "    </tr>\n",
       "    <tr>\n",
       "      <th>3</th>\n",
       "      <td>20</td>\n",
       "      <td>127.3</td>\n",
       "      <td>0.84</td>\n",
       "    </tr>\n",
       "    <tr>\n",
       "      <th>4</th>\n",
       "      <td>40</td>\n",
       "      <td>96.8</td>\n",
       "      <td>0.42</td>\n",
       "    </tr>\n",
       "    <tr>\n",
       "      <th>5</th>\n",
       "      <td>60</td>\n",
       "      <td>76.6</td>\n",
       "      <td>0.25</td>\n",
       "    </tr>\n",
       "    <tr>\n",
       "      <th>6</th>\n",
       "      <td>100</td>\n",
       "      <td>55.2</td>\n",
       "      <td>0.149</td>\n",
       "    </tr>\n",
       "    <tr>\n",
       "      <th>7</th>\n",
       "      <td>200</td>\n",
       "      <td>43.4</td>\n",
       "      <td>0.074</td>\n",
       "    </tr>\n",
       "    <tr>\n",
       "      <th>8</th>\n",
       "      <td>cuba</td>\n",
       "      <td>22.0</td>\n",
       "      <td>cuba</td>\n",
       "    </tr>\n",
       "  </tbody>\n",
       "</table>\n",
       "</div>"
      ],
      "text/plain": [
       "  Peneira  Massa     mm\n",
       "0       4    0.0   4.76\n",
       "1       6   30.0   3.36\n",
       "2      10   48.7      2\n",
       "3      20  127.3   0.84\n",
       "4      40   96.8   0.42\n",
       "5      60   76.6   0.25\n",
       "6     100   55.2  0.149\n",
       "7     200   43.4  0.074\n",
       "8    cuba   22.0   cuba"
      ]
     },
     "execution_count": 57,
     "metadata": {},
     "output_type": "execute_result"
    }
   ],
   "source": [
    "dado['mm'] = dado.Peneira.apply(mesh_mm)\n",
    "dado"
   ]
  },
  {
   "cell_type": "code",
   "execution_count": 58,
   "metadata": {},
   "outputs": [
    {
     "data": {
      "text/plain": [
       "500.0"
      ]
     },
     "execution_count": 58,
     "metadata": {},
     "output_type": "execute_result"
    }
   ],
   "source": [
    "dado.Massa.sum()"
   ]
  },
  {
   "cell_type": "code",
   "execution_count": 60,
   "metadata": {},
   "outputs": [
    {
     "data": {
      "text/plain": [
       "0    0.0000\n",
       "1    0.0600\n",
       "2    0.0974\n",
       "3    0.2546\n",
       "4    0.1936\n",
       "5    0.1532\n",
       "6    0.1104\n",
       "7    0.0868\n",
       "8    0.0440\n",
       "Name: Massa, dtype: float64"
      ]
     },
     "execution_count": 60,
     "metadata": {},
     "output_type": "execute_result"
    }
   ],
   "source": [
    "dado.Massa/dado.Massa.sum()"
   ]
  },
  {
   "cell_type": "code",
   "execution_count": 61,
   "metadata": {},
   "outputs": [
    {
     "data": {
      "text/html": [
       "<div>\n",
       "<style scoped>\n",
       "    .dataframe tbody tr th:only-of-type {\n",
       "        vertical-align: middle;\n",
       "    }\n",
       "\n",
       "    .dataframe tbody tr th {\n",
       "        vertical-align: top;\n",
       "    }\n",
       "\n",
       "    .dataframe thead th {\n",
       "        text-align: right;\n",
       "    }\n",
       "</style>\n",
       "<table border=\"1\" class=\"dataframe\">\n",
       "  <thead>\n",
       "    <tr style=\"text-align: right;\">\n",
       "      <th></th>\n",
       "      <th>Peneira</th>\n",
       "      <th>Massa</th>\n",
       "      <th>mm</th>\n",
       "      <th>Percentual</th>\n",
       "    </tr>\n",
       "  </thead>\n",
       "  <tbody>\n",
       "    <tr>\n",
       "      <th>0</th>\n",
       "      <td>4</td>\n",
       "      <td>0.0</td>\n",
       "      <td>4.76</td>\n",
       "      <td>0.0000</td>\n",
       "    </tr>\n",
       "    <tr>\n",
       "      <th>1</th>\n",
       "      <td>6</td>\n",
       "      <td>30.0</td>\n",
       "      <td>3.36</td>\n",
       "      <td>0.0600</td>\n",
       "    </tr>\n",
       "    <tr>\n",
       "      <th>2</th>\n",
       "      <td>10</td>\n",
       "      <td>48.7</td>\n",
       "      <td>2</td>\n",
       "      <td>0.0974</td>\n",
       "    </tr>\n",
       "    <tr>\n",
       "      <th>3</th>\n",
       "      <td>20</td>\n",
       "      <td>127.3</td>\n",
       "      <td>0.84</td>\n",
       "      <td>0.2546</td>\n",
       "    </tr>\n",
       "    <tr>\n",
       "      <th>4</th>\n",
       "      <td>40</td>\n",
       "      <td>96.8</td>\n",
       "      <td>0.42</td>\n",
       "      <td>0.1936</td>\n",
       "    </tr>\n",
       "    <tr>\n",
       "      <th>5</th>\n",
       "      <td>60</td>\n",
       "      <td>76.6</td>\n",
       "      <td>0.25</td>\n",
       "      <td>0.1532</td>\n",
       "    </tr>\n",
       "    <tr>\n",
       "      <th>6</th>\n",
       "      <td>100</td>\n",
       "      <td>55.2</td>\n",
       "      <td>0.149</td>\n",
       "      <td>0.1104</td>\n",
       "    </tr>\n",
       "    <tr>\n",
       "      <th>7</th>\n",
       "      <td>200</td>\n",
       "      <td>43.4</td>\n",
       "      <td>0.074</td>\n",
       "      <td>0.0868</td>\n",
       "    </tr>\n",
       "    <tr>\n",
       "      <th>8</th>\n",
       "      <td>cuba</td>\n",
       "      <td>22.0</td>\n",
       "      <td>cuba</td>\n",
       "      <td>0.0440</td>\n",
       "    </tr>\n",
       "  </tbody>\n",
       "</table>\n",
       "</div>"
      ],
      "text/plain": [
       "  Peneira  Massa     mm  Percentual\n",
       "0       4    0.0   4.76      0.0000\n",
       "1       6   30.0   3.36      0.0600\n",
       "2      10   48.7      2      0.0974\n",
       "3      20  127.3   0.84      0.2546\n",
       "4      40   96.8   0.42      0.1936\n",
       "5      60   76.6   0.25      0.1532\n",
       "6     100   55.2  0.149      0.1104\n",
       "7     200   43.4  0.074      0.0868\n",
       "8    cuba   22.0   cuba      0.0440"
      ]
     },
     "execution_count": 61,
     "metadata": {},
     "output_type": "execute_result"
    }
   ],
   "source": [
    "dado['Percentual'] = dado['Massa']/dado.Massa.sum()\n",
    "dado"
   ]
  },
  {
   "cell_type": "code",
   "execution_count": 64,
   "metadata": {},
   "outputs": [],
   "source": [
    "def soma_cum(percentual):\n",
    "    soma_cum = np.zeros(len(percentual))\n",
    "    aux = 0.0\n",
    "    for i in range(0,len(soma_cum)):\n",
    "        soma_cum[i]=aux+percentual[i]\n",
    "        aux=soma_cum[i]\n",
    "    soma_cum=soma_cum*100\n",
    "    return sorted(soma_cum,reverse=True)"
   ]
  },
  {
   "cell_type": "code",
   "execution_count": 65,
   "metadata": {},
   "outputs": [
    {
     "data": {
      "text/html": [
       "<div>\n",
       "<style scoped>\n",
       "    .dataframe tbody tr th:only-of-type {\n",
       "        vertical-align: middle;\n",
       "    }\n",
       "\n",
       "    .dataframe tbody tr th {\n",
       "        vertical-align: top;\n",
       "    }\n",
       "\n",
       "    .dataframe thead th {\n",
       "        text-align: right;\n",
       "    }\n",
       "</style>\n",
       "<table border=\"1\" class=\"dataframe\">\n",
       "  <thead>\n",
       "    <tr style=\"text-align: right;\">\n",
       "      <th></th>\n",
       "      <th>Peneira</th>\n",
       "      <th>Massa</th>\n",
       "      <th>mm</th>\n",
       "      <th>Percentual</th>\n",
       "      <th>Porcentagem_fina</th>\n",
       "    </tr>\n",
       "  </thead>\n",
       "  <tbody>\n",
       "    <tr>\n",
       "      <th>0</th>\n",
       "      <td>4</td>\n",
       "      <td>0.0</td>\n",
       "      <td>4.76</td>\n",
       "      <td>0.0000</td>\n",
       "      <td>100.00</td>\n",
       "    </tr>\n",
       "    <tr>\n",
       "      <th>1</th>\n",
       "      <td>6</td>\n",
       "      <td>30.0</td>\n",
       "      <td>3.36</td>\n",
       "      <td>0.0600</td>\n",
       "      <td>95.60</td>\n",
       "    </tr>\n",
       "    <tr>\n",
       "      <th>2</th>\n",
       "      <td>10</td>\n",
       "      <td>48.7</td>\n",
       "      <td>2</td>\n",
       "      <td>0.0974</td>\n",
       "      <td>86.92</td>\n",
       "    </tr>\n",
       "    <tr>\n",
       "      <th>3</th>\n",
       "      <td>20</td>\n",
       "      <td>127.3</td>\n",
       "      <td>0.84</td>\n",
       "      <td>0.2546</td>\n",
       "      <td>75.88</td>\n",
       "    </tr>\n",
       "    <tr>\n",
       "      <th>4</th>\n",
       "      <td>40</td>\n",
       "      <td>96.8</td>\n",
       "      <td>0.42</td>\n",
       "      <td>0.1936</td>\n",
       "      <td>60.56</td>\n",
       "    </tr>\n",
       "    <tr>\n",
       "      <th>5</th>\n",
       "      <td>60</td>\n",
       "      <td>76.6</td>\n",
       "      <td>0.25</td>\n",
       "      <td>0.1532</td>\n",
       "      <td>41.20</td>\n",
       "    </tr>\n",
       "    <tr>\n",
       "      <th>6</th>\n",
       "      <td>100</td>\n",
       "      <td>55.2</td>\n",
       "      <td>0.149</td>\n",
       "      <td>0.1104</td>\n",
       "      <td>15.74</td>\n",
       "    </tr>\n",
       "    <tr>\n",
       "      <th>7</th>\n",
       "      <td>200</td>\n",
       "      <td>43.4</td>\n",
       "      <td>0.074</td>\n",
       "      <td>0.0868</td>\n",
       "      <td>6.00</td>\n",
       "    </tr>\n",
       "    <tr>\n",
       "      <th>8</th>\n",
       "      <td>cuba</td>\n",
       "      <td>22.0</td>\n",
       "      <td>cuba</td>\n",
       "      <td>0.0440</td>\n",
       "      <td>0.00</td>\n",
       "    </tr>\n",
       "  </tbody>\n",
       "</table>\n",
       "</div>"
      ],
      "text/plain": [
       "  Peneira  Massa     mm  Percentual  Porcentagem_fina\n",
       "0       4    0.0   4.76      0.0000            100.00\n",
       "1       6   30.0   3.36      0.0600             95.60\n",
       "2      10   48.7      2      0.0974             86.92\n",
       "3      20  127.3   0.84      0.2546             75.88\n",
       "4      40   96.8   0.42      0.1936             60.56\n",
       "5      60   76.6   0.25      0.1532             41.20\n",
       "6     100   55.2  0.149      0.1104             15.74\n",
       "7     200   43.4  0.074      0.0868              6.00\n",
       "8    cuba   22.0   cuba      0.0440              0.00"
      ]
     },
     "execution_count": 65,
     "metadata": {},
     "output_type": "execute_result"
    }
   ],
   "source": [
    "dado['Porcentagem_fina'] = soma_cum(dado.Percentual)\n",
    "dado"
   ]
  },
  {
   "cell_type": "code",
   "execution_count": 67,
   "metadata": {},
   "outputs": [
    {
     "data": {
      "text/plain": [
       "Text(0, 0.5, 'Porcentagem mais fina')"
      ]
     },
     "execution_count": 67,
     "metadata": {},
     "output_type": "execute_result"
    },
    {
     "data": {
      "image/png": "[encoded data removed]",
      "text/plain": [
       "<Figure size 720x576 with 1 Axes>"
      ]
     },
     "metadata": {
      "needs_background": "light"
     },
     "output_type": "display_data"
    }
   ],
   "source": [
    "plt.figure(figsize=(10,8))\n",
    "\n",
    "plt.plot(dado.mm[:-1],dado.Porcentagem_fina[:-1],marker='o',c='black')\n",
    "plt.xscale('log')\n",
    "\n",
    "plt.xticks([0.05,0.1,1,10],[0.05,0.1,1,10])\n",
    "\n",
    "plt.yticks(np.arange(0,120,10))\n",
    "plt.ylim(0,110)\n",
    "\n",
    "plt.grid(which='minor')\n",
    "plt.grid(which='major')\n",
    "\n",
    "plt.xlabel('Diâmetro das partículas (mm)')\n",
    "plt.ylabel('Porcentagem mais fina')"
   ]
  },
  {
   "cell_type": "code",
   "execution_count": 68,
   "metadata": {},
   "outputs": [],
   "source": [
    "d10 = 0.1"
   ]
  },
  {
   "cell_type": "code",
   "execution_count": 69,
   "metadata": {},
   "outputs": [],
   "source": [
    "d60 = 0.4"
   ]
  },
  {
   "cell_type": "code",
   "execution_count": 70,
   "metadata": {},
   "outputs": [
    {
     "data": {
      "text/plain": [
       "4.0"
      ]
     },
     "execution_count": 70,
     "metadata": {},
     "output_type": "execute_result"
    }
   ],
   "source": [
    "Cuni = d60/d10\n",
    "Cuni"
   ]
  },
  {
   "cell_type": "code",
   "execution_count": 71,
   "metadata": {},
   "outputs": [],
   "source": [
    "d30 = 0.2"
   ]
  },
  {
   "cell_type": "code",
   "execution_count": 72,
   "metadata": {},
   "outputs": [
    {
     "data": {
      "text/plain": [
       "1.0"
      ]
     },
     "execution_count": 72,
     "metadata": {},
     "output_type": "execute_result"
    }
   ],
   "source": [
    "CC = (d30**2)/(d60*d10)\n",
    "CC"
   ]
  },
  {
   "cell_type": "code",
   "execution_count": 73,
   "metadata": {},
   "outputs": [],
   "source": [
    "d75 = 0.85\n",
    "d25 = 0.18"
   ]
  },
  {
   "cell_type": "code",
   "execution_count": 75,
   "metadata": {},
   "outputs": [
    {
     "data": {
      "text/plain": [
       "2.173067468400883"
      ]
     },
     "execution_count": 75,
     "metadata": {},
     "output_type": "execute_result"
    }
   ],
   "source": [
    "So = np.sqrt(d75/d25)\n",
    "So"
   ]
  },
  {
   "cell_type": "code",
   "execution_count": 76,
   "metadata": {},
   "outputs": [
    {
     "data": {
      "text/html": [
       "<div>\n",
       "<style scoped>\n",
       "    .dataframe tbody tr th:only-of-type {\n",
       "        vertical-align: middle;\n",
       "    }\n",
       "\n",
       "    .dataframe tbody tr th {\n",
       "        vertical-align: top;\n",
       "    }\n",
       "\n",
       "    .dataframe thead th {\n",
       "        text-align: right;\n",
       "    }\n",
       "</style>\n",
       "<table border=\"1\" class=\"dataframe\">\n",
       "  <thead>\n",
       "    <tr style=\"text-align: right;\">\n",
       "      <th></th>\n",
       "      <th>Peneira</th>\n",
       "      <th>Massa</th>\n",
       "      <th>mm</th>\n",
       "      <th>Percentual</th>\n",
       "      <th>Porcentagem_fina</th>\n",
       "    </tr>\n",
       "  </thead>\n",
       "  <tbody>\n",
       "    <tr>\n",
       "      <th>0</th>\n",
       "      <td>4</td>\n",
       "      <td>0.0</td>\n",
       "      <td>4.76</td>\n",
       "      <td>0.0000</td>\n",
       "      <td>100.00</td>\n",
       "    </tr>\n",
       "    <tr>\n",
       "      <th>1</th>\n",
       "      <td>6</td>\n",
       "      <td>30.0</td>\n",
       "      <td>3.36</td>\n",
       "      <td>0.0600</td>\n",
       "      <td>95.60</td>\n",
       "    </tr>\n",
       "    <tr>\n",
       "      <th>2</th>\n",
       "      <td>10</td>\n",
       "      <td>48.7</td>\n",
       "      <td>2</td>\n",
       "      <td>0.0974</td>\n",
       "      <td>86.92</td>\n",
       "    </tr>\n",
       "    <tr>\n",
       "      <th>3</th>\n",
       "      <td>20</td>\n",
       "      <td>127.3</td>\n",
       "      <td>0.84</td>\n",
       "      <td>0.2546</td>\n",
       "      <td>75.88</td>\n",
       "    </tr>\n",
       "    <tr>\n",
       "      <th>4</th>\n",
       "      <td>40</td>\n",
       "      <td>96.8</td>\n",
       "      <td>0.42</td>\n",
       "      <td>0.1936</td>\n",
       "      <td>60.56</td>\n",
       "    </tr>\n",
       "    <tr>\n",
       "      <th>5</th>\n",
       "      <td>60</td>\n",
       "      <td>76.6</td>\n",
       "      <td>0.25</td>\n",
       "      <td>0.1532</td>\n",
       "      <td>41.20</td>\n",
       "    </tr>\n",
       "    <tr>\n",
       "      <th>6</th>\n",
       "      <td>100</td>\n",
       "      <td>55.2</td>\n",
       "      <td>0.149</td>\n",
       "      <td>0.1104</td>\n",
       "      <td>15.74</td>\n",
       "    </tr>\n",
       "    <tr>\n",
       "      <th>7</th>\n",
       "      <td>200</td>\n",
       "      <td>43.4</td>\n",
       "      <td>0.074</td>\n",
       "      <td>0.0868</td>\n",
       "      <td>6.00</td>\n",
       "    </tr>\n",
       "    <tr>\n",
       "      <th>8</th>\n",
       "      <td>cuba</td>\n",
       "      <td>22.0</td>\n",
       "      <td>cuba</td>\n",
       "      <td>0.0440</td>\n",
       "      <td>0.00</td>\n",
       "    </tr>\n",
       "  </tbody>\n",
       "</table>\n",
       "</div>"
      ],
      "text/plain": [
       "  Peneira  Massa     mm  Percentual  Porcentagem_fina\n",
       "0       4    0.0   4.76      0.0000            100.00\n",
       "1       6   30.0   3.36      0.0600             95.60\n",
       "2      10   48.7      2      0.0974             86.92\n",
       "3      20  127.3   0.84      0.2546             75.88\n",
       "4      40   96.8   0.42      0.1936             60.56\n",
       "5      60   76.6   0.25      0.1532             41.20\n",
       "6     100   55.2  0.149      0.1104             15.74\n",
       "7     200   43.4  0.074      0.0868              6.00\n",
       "8    cuba   22.0   cuba      0.0440              0.00"
      ]
     },
     "execution_count": 76,
     "metadata": {},
     "output_type": "execute_result"
    }
   ],
   "source": [
    "dado"
   ]
  },
  {
   "cell_type": "code",
   "execution_count": 77,
   "metadata": {},
   "outputs": [],
   "source": [
    "dado.to_excel('dado-peneira.xlsx')"
   ]
  },
  {
   "cell_type": "code",
   "execution_count": 79,
   "metadata": {},
   "outputs": [
    {
     "name": "stdout",
     "output_type": "stream",
     "text": [
      "\\begin{tabular}{llrlrr}\n",
      "\\toprule\n",
      "{} & Peneira &  Massa &     mm &  Percentual &  Porcentagem\\_fina \\\\\n",
      "\\midrule\n",
      "0 &       4 &    0.0 &   4.76 &      0.0000 &            100.00 \\\\\n",
      "1 &       6 &   30.0 &   3.36 &      0.0600 &             95.60 \\\\\n",
      "2 &      10 &   48.7 &      2 &      0.0974 &             86.92 \\\\\n",
      "3 &      20 &  127.3 &   0.84 &      0.2546 &             75.88 \\\\\n",
      "4 &      40 &   96.8 &   0.42 &      0.1936 &             60.56 \\\\\n",
      "5 &      60 &   76.6 &   0.25 &      0.1532 &             41.20 \\\\\n",
      "6 &     100 &   55.2 &  0.149 &      0.1104 &             15.74 \\\\\n",
      "7 &     200 &   43.4 &  0.074 &      0.0868 &              6.00 \\\\\n",
      "8 &    cuba &   22.0 &   cuba &      0.0440 &              0.00 \\\\\n",
      "\\bottomrule\n",
      "\\end{tabular}\n",
      "\n"
     ]
    }
   ],
   "source": [
    "print(dado.to_latex())"
   ]
  },
  {
   "cell_type": "code",
   "execution_count": 81,
   "metadata": {},
   "outputs": [
    {
     "data": {
      "text/plain": [
       "'<table border=\"1\" class=\"dataframe\">\\n  <thead>\\n    <tr style=\"text-align: right;\">\\n      <th></th>\\n      <th>Peneira</th>\\n      <th>Massa</th>\\n      <th>mm</th>\\n      <th>Percentual</th>\\n      <th>Porcentagem_fina</th>\\n    </tr>\\n  </thead>\\n  <tbody>\\n    <tr>\\n      <th>0</th>\\n      <td>4</td>\\n      <td>0.0</td>\\n      <td>4.76</td>\\n      <td>0.0000</td>\\n      <td>100.00</td>\\n    </tr>\\n    <tr>\\n      <th>1</th>\\n      <td>6</td>\\n      <td>30.0</td>\\n      <td>3.36</td>\\n      <td>0.0600</td>\\n      <td>95.60</td>\\n    </tr>\\n    <tr>\\n      <th>2</th>\\n      <td>10</td>\\n      <td>48.7</td>\\n      <td>2</td>\\n      <td>0.0974</td>\\n      <td>86.92</td>\\n    </tr>\\n    <tr>\\n      <th>3</th>\\n      <td>20</td>\\n      <td>127.3</td>\\n      <td>0.84</td>\\n      <td>0.2546</td>\\n      <td>75.88</td>\\n    </tr>\\n    <tr>\\n      <th>4</th>\\n      <td>40</td>\\n      <td>96.8</td>\\n      <td>0.42</td>\\n      <td>0.1936</td>\\n      <td>60.56</td>\\n    </tr>\\n    <tr>\\n      <th>5</th>\\n      <td>60</td>\\n      <td>76.6</td>\\n      <td>0.25</td>\\n      <td>0.1532</td>\\n      <td>41.20</td>\\n    </tr>\\n    <tr>\\n      <th>6</th>\\n      <td>100</td>\\n      <td>55.2</td>\\n      <td>0.149</td>\\n      <td>0.1104</td>\\n      <td>15.74</td>\\n    </tr>\\n    <tr>\\n      <th>7</th>\\n      <td>200</td>\\n      <td>43.4</td>\\n      <td>0.074</td>\\n      <td>0.0868</td>\\n      <td>6.00</td>\\n    </tr>\\n    <tr>\\n      <th>8</th>\\n      <td>cuba</td>\\n      <td>22.0</td>\\n      <td>cuba</td>\\n      <td>0.0440</td>\\n      <td>0.00</td>\\n    </tr>\\n  </tbody>\\n</table>'"
      ]
     },
     "execution_count": 81,
     "metadata": {},
     "output_type": "execute_result"
    }
   ],
   "source": [
    "dado.to_html()"
   ]
  },
  {
   "cell_type": "code",
   "execution_count": null,
   "metadata": {},
   "outputs": [],
   "source": []
  }
 ],
 "metadata": {
  "kernelspec": {
   "display_name": "Python 3",
   "language": "python",
   "name": "python3"
  },
  "language_info": {
   "codemirror_mode": {
    "name": "ipython",
    "version": 3
   },
   "file_extension": ".py",
   "mimetype": "text/x-python",
   "name": "python",
   "nbconvert_exporter": "python",
   "pygments_lexer": "ipython3",
   "version": "3.7.3"
  }
 },
 "nbformat": 4,
 "nbformat_minor": 2
}
